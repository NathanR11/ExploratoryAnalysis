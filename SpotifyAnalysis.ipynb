{
 "cells": [
  {
   "cell_type": "markdown",
   "metadata": {},
   "source": [
    "# Spotify Exploratory Data Analysis"
   ]
  },
  {
   "cell_type": "markdown",
   "metadata": {},
   "source": [
    "## Summary"
   ]
  },
  {
   "cell_type": "markdown",
   "metadata": {},
   "source": [
    "Spotify is one of the most popular music streaming applications, originally from Sweden, with 406M active users worldwide, founded by Daniel Ek and Martin Lorentzon in 2006. 108M subscribers have subscribed to Spotify Premium, providing an ad-free experience, among other benefits.  As a music lover, I regulary listen to my favorite songs and artists on Spotify - finding different genres of music that fit my mood.  Every year, Spotify provides users a \"year in rewind\" service to show their \"music statistics\" from the past year.  I wanted to create my own Spotify Rewind to have a more personalized summary of the music I have listened to so far.\n",
    "\n",
    "\n",
    "The questions we would like to look at are:\n",
    "\n",
    "- Who are my top artists I have listened to?\n",
    "- Who are the top genres I listened to?\n",
    "- What are the top 5 songs played?\n",
    "- How many minutes listened by month?"
   ]
  },
  {
   "cell_type": "markdown",
   "metadata": {},
   "source": [
    "## Step 1 - Request the data"
   ]
  },
  {
   "cell_type": "markdown",
   "metadata": {},
   "source": [
    "Data was manually requested from Spotify's website.  The data was delivered in separate JSON files within 5 business days of the original request.  The files that I am only going to be focusing on are the ones related to __Streaming History__, as they contain the data needed for analysis."
   ]
  },
  {
   "cell_type": "markdown",
   "metadata": {},
   "source": [
    "## Step 2 - Preparation of the streaming and library data"
   ]
  },
  {
   "cell_type": "markdown",
   "metadata": {},
   "source": [
    "The data colleced will be used to create a single dataframe that includes all streaming data, each song in the library, and each song's Spotify URI (Unique Identifier)."
   ]
  },
  {
   "cell_type": "code",
   "execution_count": 1,
   "metadata": {},
   "outputs": [],
   "source": [
    "## Import the necessary packages\n",
    "import pandas as pd\n",
    "import numpy as np\n",
    "import requests # This will be needed later for using Spotify's API"
   ]
  },
  {
   "cell_type": "code",
   "execution_count": 4,
   "metadata": {},
   "outputs": [],
   "source": [
    "## Reading each StreamingHistory files and assigning them initially to their own variable\n",
    "df_stream0 = pd.read_json('StreamingHistory0.json')\n",
    "df_stream1 = pd.read_json('StreamingHistory1.json')\n",
    "df_stream2 = pd.read_json('StreamingHistory2.json')\n",
    "df_stream3 = pd.read_json('StreamingHistory3.json')\n",
    "\n",
    "df_stream = pd.concat([df_stream0, df_stream1, df_stream2, df_stream3])\n"
   ]
  },
  {
   "cell_type": "code",
   "execution_count": 8,
   "metadata": {},
   "outputs": [
    {
     "data": {
      "text/plain": [
       "Index(['endTime', 'artistName', 'trackName', 'msPlayed'], dtype='object')"
      ]
     },
     "execution_count": 8,
     "metadata": {},
     "output_type": "execute_result"
    }
   ],
   "source": [
    "## Taking an inital look at the data: what columns are present \n",
    "df_stream.columns"
   ]
  },
  {
   "cell_type": "markdown",
   "metadata": {},
   "source": [
    "We see that the merged dataframe contains the columns: endTime, artistName, trackName, and msPlayed - all of which are of the type ojbect."
   ]
  },
  {
   "cell_type": "code",
   "execution_count": 10,
   "metadata": {},
   "outputs": [
    {
     "data": {
      "text/html": [
       "<div>\n",
       "<style scoped>\n",
       "    .dataframe tbody tr th:only-of-type {\n",
       "        vertical-align: middle;\n",
       "    }\n",
       "\n",
       "    .dataframe tbody tr th {\n",
       "        vertical-align: top;\n",
       "    }\n",
       "\n",
       "    .dataframe thead th {\n",
       "        text-align: right;\n",
       "    }\n",
       "</style>\n",
       "<table border=\"1\" class=\"dataframe\">\n",
       "  <thead>\n",
       "    <tr style=\"text-align: right;\">\n",
       "      <th></th>\n",
       "      <th>endTime</th>\n",
       "      <th>artistName</th>\n",
       "      <th>trackName</th>\n",
       "      <th>msPlayed</th>\n",
       "      <th>UniqueID</th>\n",
       "    </tr>\n",
       "  </thead>\n",
       "  <tbody>\n",
       "    <tr>\n",
       "      <td>0</td>\n",
       "      <td>2021-11-01 01:04</td>\n",
       "      <td>Terence Lam</td>\n",
       "      <td>難道喜歡處女座 (Alter Ego)</td>\n",
       "      <td>142805</td>\n",
       "      <td>Terence Lam:難道喜歡處女座 (Alter Ego)</td>\n",
       "    </tr>\n",
       "    <tr>\n",
       "      <td>1</td>\n",
       "      <td>2021-11-01 01:47</td>\n",
       "      <td>2PM</td>\n",
       "      <td>Heartbeat</td>\n",
       "      <td>193398</td>\n",
       "      <td>2PM:Heartbeat</td>\n",
       "    </tr>\n",
       "    <tr>\n",
       "      <td>2</td>\n",
       "      <td>2021-11-01 01:55</td>\n",
       "      <td>2PM</td>\n",
       "      <td>She’s ma girl</td>\n",
       "      <td>18670</td>\n",
       "      <td>2PM:She’s ma girl</td>\n",
       "    </tr>\n",
       "    <tr>\n",
       "      <td>3</td>\n",
       "      <td>2021-11-01 01:58</td>\n",
       "      <td>AILEE</td>\n",
       "      <td>My Lips</td>\n",
       "      <td>41141</td>\n",
       "      <td>AILEE:My Lips</td>\n",
       "    </tr>\n",
       "    <tr>\n",
       "      <td>4</td>\n",
       "      <td>2021-11-01 02:02</td>\n",
       "      <td>ERIK</td>\n",
       "      <td>Ăn Sáng Nha - Original Version</td>\n",
       "      <td>187241</td>\n",
       "      <td>ERIK:Ăn Sáng Nha - Original Version</td>\n",
       "    </tr>\n",
       "  </tbody>\n",
       "</table>\n",
       "</div>"
      ],
      "text/plain": [
       "            endTime   artistName                       trackName  msPlayed  \\\n",
       "0  2021-11-01 01:04  Terence Lam             難道喜歡處女座 (Alter Ego)    142805   \n",
       "1  2021-11-01 01:47          2PM                       Heartbeat    193398   \n",
       "2  2021-11-01 01:55          2PM                   She’s ma girl     18670   \n",
       "3  2021-11-01 01:58        AILEE                         My Lips     41141   \n",
       "4  2021-11-01 02:02         ERIK  Ăn Sáng Nha - Original Version    187241   \n",
       "\n",
       "                              UniqueID  \n",
       "0      Terence Lam:難道喜歡處女座 (Alter Ego)  \n",
       "1                        2PM:Heartbeat  \n",
       "2                    2PM:She’s ma girl  \n",
       "3                        AILEE:My Lips  \n",
       "4  ERIK:Ăn Sáng Nha - Original Version  "
      ]
     },
     "execution_count": 10,
     "metadata": {},
     "output_type": "execute_result"
    }
   ],
   "source": [
    "## Create uniqueID for each song through combining fields 'artistName' and 'trackName'\n",
    "df_stream['UniqueID'] = df_stream['artistName'] + \":\" + df_stream['trackName']\n",
    "df_stream.head()"
   ]
  },
  {
   "cell_type": "markdown",
   "metadata": {},
   "source": [
    "Next I cleaned the 'YourLibrary' file retrieved from Spotify so that it contained the \"tracks\" dictionary, surrounded by brackets and saved it as a new file.  This is a JSON file containing the artist, album, track, and uri for a specific track."
   ]
  },
  {
   "cell_type": "code",
   "execution_count": 17,
   "metadata": {},
   "outputs": [
    {
     "data": {
      "text/html": [
       "<div>\n",
       "<style scoped>\n",
       "    .dataframe tbody tr th:only-of-type {\n",
       "        vertical-align: middle;\n",
       "    }\n",
       "\n",
       "    .dataframe tbody tr th {\n",
       "        vertical-align: top;\n",
       "    }\n",
       "\n",
       "    .dataframe thead th {\n",
       "        text-align: right;\n",
       "    }\n",
       "</style>\n",
       "<table border=\"1\" class=\"dataframe\">\n",
       "  <thead>\n",
       "    <tr style=\"text-align: right;\">\n",
       "      <th></th>\n",
       "      <th>artist</th>\n",
       "      <th>album</th>\n",
       "      <th>track</th>\n",
       "      <th>uri</th>\n",
       "      <th>UniqueID</th>\n",
       "      <th>track_uri</th>\n",
       "    </tr>\n",
       "  </thead>\n",
       "  <tbody>\n",
       "    <tr>\n",
       "      <td>0</td>\n",
       "      <td>Younha</td>\n",
       "      <td>혜성</td>\n",
       "      <td>손을 잡고서</td>\n",
       "      <td>spotify:track:4Wbr28lSOrBHGzmg9m7io7</td>\n",
       "      <td>Younha:손을 잡고서</td>\n",
       "      <td>4Wbr28lSOrBHGzmg9m7io7</td>\n",
       "    </tr>\n",
       "    <tr>\n",
       "      <td>1</td>\n",
       "      <td>Leehom Wang</td>\n",
       "      <td>蓋世英雄</td>\n",
       "      <td>在梅邊</td>\n",
       "      <td>spotify:track:7tF3CpbFS0kdkXu3zHmA1i</td>\n",
       "      <td>Leehom Wang:在梅邊</td>\n",
       "      <td>7tF3CpbFS0kdkXu3zHmA1i</td>\n",
       "    </tr>\n",
       "    <tr>\n",
       "      <td>2</td>\n",
       "      <td>JJ Lin</td>\n",
       "      <td>偉大的渺小</td>\n",
       "      <td>聖所</td>\n",
       "      <td>spotify:track:6ilHdm1oBzsR5lY7vlPFhx</td>\n",
       "      <td>JJ Lin:聖所</td>\n",
       "      <td>6ilHdm1oBzsR5lY7vlPFhx</td>\n",
       "    </tr>\n",
       "    <tr>\n",
       "      <td>3</td>\n",
       "      <td>Wanting</td>\n",
       "      <td>Everything In The World</td>\n",
       "      <td>Drenched</td>\n",
       "      <td>spotify:track:5Slyt01qJpBYW2XQbMWk5D</td>\n",
       "      <td>Wanting:Drenched</td>\n",
       "      <td>5Slyt01qJpBYW2XQbMWk5D</td>\n",
       "    </tr>\n",
       "    <tr>\n",
       "      <td>4</td>\n",
       "      <td>Joe Inoue</td>\n",
       "      <td>幻</td>\n",
       "      <td>幻</td>\n",
       "      <td>spotify:track:2rEOfZT1isxKmG9FfdULBG</td>\n",
       "      <td>Joe Inoue:幻</td>\n",
       "      <td>2rEOfZT1isxKmG9FfdULBG</td>\n",
       "    </tr>\n",
       "  </tbody>\n",
       "</table>\n",
       "</div>"
      ],
      "text/plain": [
       "        artist                    album     track  \\\n",
       "0       Younha                       혜성    손을 잡고서   \n",
       "1  Leehom Wang                     蓋世英雄       在梅邊   \n",
       "2       JJ Lin                    偉大的渺小        聖所   \n",
       "3      Wanting  Everything In The World  Drenched   \n",
       "4    Joe Inoue                        幻         幻   \n",
       "\n",
       "                                    uri          UniqueID  \\\n",
       "0  spotify:track:4Wbr28lSOrBHGzmg9m7io7     Younha:손을 잡고서   \n",
       "1  spotify:track:7tF3CpbFS0kdkXu3zHmA1i   Leehom Wang:在梅邊   \n",
       "2  spotify:track:6ilHdm1oBzsR5lY7vlPFhx         JJ Lin:聖所   \n",
       "3  spotify:track:5Slyt01qJpBYW2XQbMWk5D  Wanting:Drenched   \n",
       "4  spotify:track:2rEOfZT1isxKmG9FfdULBG       Joe Inoue:幻   \n",
       "\n",
       "                track_uri  \n",
       "0  4Wbr28lSOrBHGzmg9m7io7  \n",
       "1  7tF3CpbFS0kdkXu3zHmA1i  \n",
       "2  6ilHdm1oBzsR5lY7vlPFhx  \n",
       "3  5Slyt01qJpBYW2XQbMWk5D  \n",
       "4  2rEOfZT1isxKmG9FfdULBG  "
      ]
     },
     "execution_count": 17,
     "metadata": {},
     "output_type": "execute_result"
    }
   ],
   "source": [
    "import json # Used to parse through the JSON data\n",
    "\n",
    "# This is to convert the JSON file into a CSV dataframe\n",
    "with open(\"YourLibrary.json\",\"r\") as fp:\n",
    "    data = json.load(fp)\n",
    "    data = data['tracks']\n",
    "df_library = pd.DataFrame.from_dict(data)\n",
    "\n",
    "# Adding a uniqueID column \n",
    "df_library['UniqueID'] = df_library['artist'] + ':' + df_library['track']\n",
    "# Add the column with track URI - removing 'spotify:track' as it is not needed\n",
    "new = df_library[\"uri\"].str.split(\":\", expand = True)\n",
    "df_library['track_uri'] = new[2]\n",
    "\n",
    "df_library.head()"
   ]
  },
  {
   "cell_type": "markdown",
   "metadata": {},
   "source": [
    "Next, I will prepare the final dataframe that will be used to load into Tableau for dashboard creation."
   ]
  },
  {
   "cell_type": "code",
   "execution_count": 19,
   "metadata": {},
   "outputs": [
    {
     "data": {
      "text/html": [
       "<div>\n",
       "<style scoped>\n",
       "    .dataframe tbody tr th:only-of-type {\n",
       "        vertical-align: middle;\n",
       "    }\n",
       "\n",
       "    .dataframe tbody tr th {\n",
       "        vertical-align: top;\n",
       "    }\n",
       "\n",
       "    .dataframe thead th {\n",
       "        text-align: right;\n",
       "    }\n",
       "</style>\n",
       "<table border=\"1\" class=\"dataframe\">\n",
       "  <thead>\n",
       "    <tr style=\"text-align: right;\">\n",
       "      <th></th>\n",
       "      <th>endTime</th>\n",
       "      <th>artistName</th>\n",
       "      <th>trackName</th>\n",
       "      <th>msPlayed</th>\n",
       "      <th>UniqueID</th>\n",
       "      <th>In Library</th>\n",
       "      <th>album</th>\n",
       "      <th>track_uri</th>\n",
       "    </tr>\n",
       "  </thead>\n",
       "  <tbody>\n",
       "    <tr>\n",
       "      <td>0</td>\n",
       "      <td>2021-11-01 01:04</td>\n",
       "      <td>Terence Lam</td>\n",
       "      <td>難道喜歡處女座 (Alter Ego)</td>\n",
       "      <td>142805</td>\n",
       "      <td>Terence Lam:難道喜歡處女座 (Alter Ego)</td>\n",
       "      <td>0</td>\n",
       "      <td>NaN</td>\n",
       "      <td>NaN</td>\n",
       "    </tr>\n",
       "    <tr>\n",
       "      <td>1</td>\n",
       "      <td>2021-11-01 01:47</td>\n",
       "      <td>2PM</td>\n",
       "      <td>Heartbeat</td>\n",
       "      <td>193398</td>\n",
       "      <td>2PM:Heartbeat</td>\n",
       "      <td>0</td>\n",
       "      <td>NaN</td>\n",
       "      <td>NaN</td>\n",
       "    </tr>\n",
       "    <tr>\n",
       "      <td>2</td>\n",
       "      <td>2021-11-01 01:55</td>\n",
       "      <td>2PM</td>\n",
       "      <td>She’s ma girl</td>\n",
       "      <td>18670</td>\n",
       "      <td>2PM:She’s ma girl</td>\n",
       "      <td>0</td>\n",
       "      <td>NaN</td>\n",
       "      <td>NaN</td>\n",
       "    </tr>\n",
       "    <tr>\n",
       "      <td>3</td>\n",
       "      <td>2021-11-01 01:58</td>\n",
       "      <td>AILEE</td>\n",
       "      <td>My Lips</td>\n",
       "      <td>41141</td>\n",
       "      <td>AILEE:My Lips</td>\n",
       "      <td>0</td>\n",
       "      <td>NaN</td>\n",
       "      <td>NaN</td>\n",
       "    </tr>\n",
       "    <tr>\n",
       "      <td>4</td>\n",
       "      <td>2021-11-01 02:02</td>\n",
       "      <td>ERIK</td>\n",
       "      <td>Ăn Sáng Nha - Original Version</td>\n",
       "      <td>187241</td>\n",
       "      <td>ERIK:Ăn Sáng Nha - Original Version</td>\n",
       "      <td>0</td>\n",
       "      <td>NaN</td>\n",
       "      <td>NaN</td>\n",
       "    </tr>\n",
       "  </tbody>\n",
       "</table>\n",
       "</div>"
      ],
      "text/plain": [
       "            endTime   artistName                       trackName  msPlayed  \\\n",
       "0  2021-11-01 01:04  Terence Lam             難道喜歡處女座 (Alter Ego)    142805   \n",
       "1  2021-11-01 01:47          2PM                       Heartbeat    193398   \n",
       "2  2021-11-01 01:55          2PM                   She’s ma girl     18670   \n",
       "3  2021-11-01 01:58        AILEE                         My Lips     41141   \n",
       "4  2021-11-01 02:02         ERIK  Ăn Sáng Nha - Original Version    187241   \n",
       "\n",
       "                              UniqueID  In Library album track_uri  \n",
       "0      Terence Lam:難道喜歡處女座 (Alter Ego)           0   NaN       NaN  \n",
       "1                        2PM:Heartbeat           0   NaN       NaN  \n",
       "2                    2PM:She’s ma girl           0   NaN       NaN  \n",
       "3                        AILEE:My Lips           0   NaN       NaN  \n",
       "4  ERIK:Ăn Sáng Nha - Original Version           0   NaN       NaN  "
      ]
     },
     "execution_count": 19,
     "metadata": {},
     "output_type": "execute_result"
    }
   ],
   "source": [
    "# final dataframe\n",
    "tableau = df_stream.copy()\n",
    "\n",
    "# inserting column to see if stream song is in library\n",
    "tableau['In Library'] = np.where(tableau['UniqueID'].isin(df_library['UniqueID'].tolist()),1,0)\n",
    "\n",
    "# Performing left join with df_library on UniqueID to bring album and track_uri\n",
    "tableau = pd.merge(tableau, df_library[['album', 'UniqueID', 'track_uri']], how='left', on=['UniqueID'])\n",
    "\n",
    "tableau.head()"
   ]
  },
  {
   "cell_type": "markdown",
   "metadata": {},
   "source": [
    "## Step 3 - Creating a New Spotify Project"
   ]
  },
  {
   "cell_type": "markdown",
   "metadata": {},
   "source": [
    "Next, I retrieved a __'Client ID'__ and __'Client Secret'__ from my Spotify Developer Account.  To protect sensitve data, I have scrubbed my Client ID and Client Secret from the final file."
   ]
  },
  {
   "cell_type": "markdown",
   "metadata": {},
   "source": [
    "## Step 4 - Create the genre dataframe with Spotify's API"
   ]
  },
  {
   "cell_type": "markdown",
   "metadata": {},
   "source": [
    "The __'Client ID'__ and __'Client Secret'__ as previously mentioned will be used to generate an access token in order to pull data from the API."
   ]
  },
  {
   "cell_type": "code",
   "execution_count": 20,
   "metadata": {},
   "outputs": [],
   "source": [
    "CLIENT_ID = 'CLIENT ID'\n",
    "CLIENT_SECRET = 'CLIENT SECRET'"
   ]
  },
  {
   "cell_type": "code",
   "execution_count": 22,
   "metadata": {},
   "outputs": [],
   "source": [
    "# generate access token\n",
    "\n",
    "# authentication URL\n",
    "AUTH_URL = 'https://accounts.spotify.com/api/token'\n",
    "\n",
    "# POST - function used for API data retrieval\n",
    "auth_response = requests.post(AUTH_URL, {\n",
    "    'grant_type': 'client_credentials',\n",
    "    'client_id': 'CLIENT ID',\n",
    "    'client_secret':'CLIENT SECRET'\n",
    "})\n",
    "\n",
    "# Convert response to JSON\n",
    "response_data = auth_response.json()\n",
    "\n",
    "# Saving access token\n",
    "access_token = response_data['access_token']"
   ]
  },
  {
   "cell_type": "code",
   "execution_count": 23,
   "metadata": {},
   "outputs": [],
   "source": [
    "# Authenticate API calls\n",
    "headers = {'Authorization': 'Bearer {token}'.format(token=access_token)}"
   ]
  },
  {
   "cell_type": "code",
   "execution_count": 24,
   "metadata": {},
   "outputs": [],
   "source": [
    "# URL of all Spotify endpoints\n",
    "BASE_URL = 'https://api.spotify.com/v1/'"
   ]
  },
  {
   "cell_type": "markdown",
   "metadata": {},
   "source": [
    "Next, the data for artists and genres associated with each of the track_uri in our library will be pulled and added to a dictionary"
   ]
  },
  {
   "cell_type": "code",
   "execution_count": 31,
   "metadata": {},
   "outputs": [],
   "source": [
    "# creating blank dictionary to store the data\n",
    "dict_genre = {}\n",
    "\n",
    "# convert track_uri column as an iterable list\n",
    "track_uris = df_library['track_uri'].to_list()\n",
    "\n",
    "\"\"\"\n",
    "Loop through each of the track URIs and pull artist\n",
    "URI using the API.  The artist URI will be used to \n",
    "pull genres associated with the specific artist, which\n",
    "will all be stored in a dictionary\n",
    "\"\"\"\n",
    "\n",
    "for t_uri in track_uris:\n",
    "    \n",
    "    dict_genre[t_uri] = {'artist_uri': \"\", \"genres\":[]}\n",
    "    \n",
    "    r = requests.get(BASE_URL + 'tracks/' + t_uri, headers=headers)\n",
    "    r = r.json()\n",
    "    a_uri = r['artists'][0]['uri'].split(':')[2]\n",
    "    dict_genre[t_uri]['artist_uri'] = a_uri\n",
    "    \n",
    "    s = requests.get(BASE_URL + 'artists/' + a_uri, headers=headers)\n",
    "    s = s.json()\n",
    "    dict_genre[t_uri]['genres'] = s['genres']"
   ]
  },
  {
   "cell_type": "markdown",
   "metadata": {},
   "source": [
    "This dictionary will be converted to a dataframe and expand so that each genre for each track/artist is in its own line."
   ]
  },
  {
   "cell_type": "code",
   "execution_count": 35,
   "metadata": {},
   "outputs": [
    {
     "data": {
      "text/html": [
       "<div>\n",
       "<style scoped>\n",
       "    .dataframe tbody tr th:only-of-type {\n",
       "        vertical-align: middle;\n",
       "    }\n",
       "\n",
       "    .dataframe tbody tr th {\n",
       "        vertical-align: top;\n",
       "    }\n",
       "\n",
       "    .dataframe thead th {\n",
       "        text-align: right;\n",
       "    }\n",
       "</style>\n",
       "<table border=\"1\" class=\"dataframe\">\n",
       "  <thead>\n",
       "    <tr style=\"text-align: right;\">\n",
       "      <th></th>\n",
       "      <th>track_uri</th>\n",
       "      <th>artist_uri</th>\n",
       "      <th>genres</th>\n",
       "    </tr>\n",
       "  </thead>\n",
       "  <tbody>\n",
       "    <tr>\n",
       "      <td>0</td>\n",
       "      <td>4Wbr28lSOrBHGzmg9m7io7</td>\n",
       "      <td>6GwM5CHqhWXzG3l5kzRSAS</td>\n",
       "      <td>[k-pop, korean pop]</td>\n",
       "    </tr>\n",
       "    <tr>\n",
       "      <td>1</td>\n",
       "      <td>7tF3CpbFS0kdkXu3zHmA1i</td>\n",
       "      <td>2F5W6Rsxwzg0plQ0w8dSyt</td>\n",
       "      <td>[c-pop, mandopop, taiwan pop]</td>\n",
       "    </tr>\n",
       "    <tr>\n",
       "      <td>2</td>\n",
       "      <td>6ilHdm1oBzsR5lY7vlPFhx</td>\n",
       "      <td>7Dx7RhX0mFuXhCOUgB01uM</td>\n",
       "      <td>[mandopop, singaporean mandopop, singaporean pop]</td>\n",
       "    </tr>\n",
       "    <tr>\n",
       "      <td>3</td>\n",
       "      <td>5Slyt01qJpBYW2XQbMWk5D</td>\n",
       "      <td>2OC4lXfGEKZkbmRCcf2vTq</td>\n",
       "      <td>[mandopop]</td>\n",
       "    </tr>\n",
       "    <tr>\n",
       "      <td>4</td>\n",
       "      <td>2rEOfZT1isxKmG9FfdULBG</td>\n",
       "      <td>04q6GxPQU1OTqHGrUxeufd</td>\n",
       "      <td>[j-poprock, otacore]</td>\n",
       "    </tr>\n",
       "    <tr>\n",
       "      <td>...</td>\n",
       "      <td>...</td>\n",
       "      <td>...</td>\n",
       "      <td>...</td>\n",
       "    </tr>\n",
       "    <tr>\n",
       "      <td>624</td>\n",
       "      <td>0mxtd9oVKsT2mZXXWnowup</td>\n",
       "      <td>0sQMt1Llvcuza8oLKB9bmi</td>\n",
       "      <td>[cantopop]</td>\n",
       "    </tr>\n",
       "    <tr>\n",
       "      <td>625</td>\n",
       "      <td>0I2We7TVGZhimAXUswSfMl</td>\n",
       "      <td>16s0YTFcyjP4kgFwt7ktrY</td>\n",
       "      <td>[mandopop, taiwan pop]</td>\n",
       "    </tr>\n",
       "    <tr>\n",
       "      <td>626</td>\n",
       "      <td>6PxEvURvLikKggWw4VgNfJ</td>\n",
       "      <td>7oMkAwPOEfk2ETm9HX9Ruo</td>\n",
       "      <td>[hakkapop, taiwan singer-songwriter]</td>\n",
       "    </tr>\n",
       "    <tr>\n",
       "      <td>627</td>\n",
       "      <td>7sKxjQ0t5RX2Ds8vgc687j</td>\n",
       "      <td>5YsDFZYpkNgiIxfDW6rXlu</td>\n",
       "      <td>[cantopop]</td>\n",
       "    </tr>\n",
       "    <tr>\n",
       "      <td>628</td>\n",
       "      <td>5myHTPXrZpxTEgaJaIUxms</td>\n",
       "      <td>7Dx7RhX0mFuXhCOUgB01uM</td>\n",
       "      <td>[mandopop, singaporean mandopop, singaporean pop]</td>\n",
       "    </tr>\n",
       "  </tbody>\n",
       "</table>\n",
       "<p>629 rows × 3 columns</p>\n",
       "</div>"
      ],
      "text/plain": [
       "                  track_uri              artist_uri  \\\n",
       "0    4Wbr28lSOrBHGzmg9m7io7  6GwM5CHqhWXzG3l5kzRSAS   \n",
       "1    7tF3CpbFS0kdkXu3zHmA1i  2F5W6Rsxwzg0plQ0w8dSyt   \n",
       "2    6ilHdm1oBzsR5lY7vlPFhx  7Dx7RhX0mFuXhCOUgB01uM   \n",
       "3    5Slyt01qJpBYW2XQbMWk5D  2OC4lXfGEKZkbmRCcf2vTq   \n",
       "4    2rEOfZT1isxKmG9FfdULBG  04q6GxPQU1OTqHGrUxeufd   \n",
       "..                      ...                     ...   \n",
       "624  0mxtd9oVKsT2mZXXWnowup  0sQMt1Llvcuza8oLKB9bmi   \n",
       "625  0I2We7TVGZhimAXUswSfMl  16s0YTFcyjP4kgFwt7ktrY   \n",
       "626  6PxEvURvLikKggWw4VgNfJ  7oMkAwPOEfk2ETm9HX9Ruo   \n",
       "627  7sKxjQ0t5RX2Ds8vgc687j  5YsDFZYpkNgiIxfDW6rXlu   \n",
       "628  5myHTPXrZpxTEgaJaIUxms  7Dx7RhX0mFuXhCOUgB01uM   \n",
       "\n",
       "                                                genres  \n",
       "0                                  [k-pop, korean pop]  \n",
       "1                        [c-pop, mandopop, taiwan pop]  \n",
       "2    [mandopop, singaporean mandopop, singaporean pop]  \n",
       "3                                           [mandopop]  \n",
       "4                                 [j-poprock, otacore]  \n",
       "..                                                 ...  \n",
       "624                                         [cantopop]  \n",
       "625                             [mandopop, taiwan pop]  \n",
       "626               [hakkapop, taiwan singer-songwriter]  \n",
       "627                                         [cantopop]  \n",
       "628  [mandopop, singaporean mandopop, singaporean pop]  \n",
       "\n",
       "[629 rows x 3 columns]"
      ]
     },
     "execution_count": 35,
     "metadata": {},
     "output_type": "execute_result"
    }
   ],
   "source": [
    "df_genre = pd.DataFrame.from_dict(dict_genre, orient='index')\n",
    "df_genre.insert(0, 'track_uri', df_genre.index)\n",
    "df_genre.reset_index(inplace=True, drop=True)\n",
    "\n",
    "df_genre"
   ]
  },
  {
   "cell_type": "code",
   "execution_count": 36,
   "metadata": {},
   "outputs": [
    {
     "data": {
      "text/html": [
       "<div>\n",
       "<style scoped>\n",
       "    .dataframe tbody tr th:only-of-type {\n",
       "        vertical-align: middle;\n",
       "    }\n",
       "\n",
       "    .dataframe tbody tr th {\n",
       "        vertical-align: top;\n",
       "    }\n",
       "\n",
       "    .dataframe thead th {\n",
       "        text-align: right;\n",
       "    }\n",
       "</style>\n",
       "<table border=\"1\" class=\"dataframe\">\n",
       "  <thead>\n",
       "    <tr style=\"text-align: right;\">\n",
       "      <th></th>\n",
       "      <th>track_uri</th>\n",
       "      <th>artist_uri</th>\n",
       "      <th>genres</th>\n",
       "    </tr>\n",
       "  </thead>\n",
       "  <tbody>\n",
       "    <tr>\n",
       "      <td>0</td>\n",
       "      <td>4Wbr28lSOrBHGzmg9m7io7</td>\n",
       "      <td>6GwM5CHqhWXzG3l5kzRSAS</td>\n",
       "      <td>k-pop</td>\n",
       "    </tr>\n",
       "    <tr>\n",
       "      <td>0</td>\n",
       "      <td>4Wbr28lSOrBHGzmg9m7io7</td>\n",
       "      <td>6GwM5CHqhWXzG3l5kzRSAS</td>\n",
       "      <td>korean pop</td>\n",
       "    </tr>\n",
       "    <tr>\n",
       "      <td>1</td>\n",
       "      <td>7tF3CpbFS0kdkXu3zHmA1i</td>\n",
       "      <td>2F5W6Rsxwzg0plQ0w8dSyt</td>\n",
       "      <td>c-pop</td>\n",
       "    </tr>\n",
       "    <tr>\n",
       "      <td>1</td>\n",
       "      <td>7tF3CpbFS0kdkXu3zHmA1i</td>\n",
       "      <td>2F5W6Rsxwzg0plQ0w8dSyt</td>\n",
       "      <td>mandopop</td>\n",
       "    </tr>\n",
       "    <tr>\n",
       "      <td>1</td>\n",
       "      <td>7tF3CpbFS0kdkXu3zHmA1i</td>\n",
       "      <td>2F5W6Rsxwzg0plQ0w8dSyt</td>\n",
       "      <td>taiwan pop</td>\n",
       "    </tr>\n",
       "  </tbody>\n",
       "</table>\n",
       "</div>"
      ],
      "text/plain": [
       "                track_uri              artist_uri      genres\n",
       "0  4Wbr28lSOrBHGzmg9m7io7  6GwM5CHqhWXzG3l5kzRSAS       k-pop\n",
       "0  4Wbr28lSOrBHGzmg9m7io7  6GwM5CHqhWXzG3l5kzRSAS  korean pop\n",
       "1  7tF3CpbFS0kdkXu3zHmA1i  2F5W6Rsxwzg0plQ0w8dSyt       c-pop\n",
       "1  7tF3CpbFS0kdkXu3zHmA1i  2F5W6Rsxwzg0plQ0w8dSyt    mandopop\n",
       "1  7tF3CpbFS0kdkXu3zHmA1i  2F5W6Rsxwzg0plQ0w8dSyt  taiwan pop"
      ]
     },
     "execution_count": 36,
     "metadata": {},
     "output_type": "execute_result"
    }
   ],
   "source": [
    "df_genre_expanded = df_genre.explode('genres')\n",
    "df_genre_expanded.head()"
   ]
  },
  {
   "cell_type": "markdown",
   "metadata": {},
   "source": [
    "The dataframes __tableau__ and __df_genre_expanded__ will be converted to CSV files to be loaded into Tableau."
   ]
  },
  {
   "cell_type": "code",
   "execution_count": 37,
   "metadata": {},
   "outputs": [
    {
     "name": "stdout",
     "output_type": "stream",
     "text": [
      "done\n"
     ]
    }
   ],
   "source": [
    "tableau.to_csv('MySpotifyDataTable.csv')\n",
    "df_genre_expanded.to_csv('GenresExpanded.csv')\n",
    "print('done')"
   ]
  },
  {
   "cell_type": "markdown",
   "metadata": {},
   "source": [
    "# Step 5 - Results and Next Steps"
   ]
  },
  {
   "cell_type": "markdown",
   "metadata": {},
   "source": [
    "The exploratory data analysis was done through a Tableau dashboard (please see the link below)\n",
    "\n",
    "### Findings\n",
    "\n",
    "- Top 10 artists listened to (In order from greatest to least): JJ Lin, BTS, Hwa Sa, Jay Chou, Mayday, Hearts Grow, Angela Hui, Joey Young, C AllStar, and Hubert Wu\n",
    "    - JJ Lin - 1st place with 1,826 minutes listened total. Had the most minutes listened to August with 409.6 minutes.  He had the least minutes listened to 3.8 minutes.\n",
    "\n",
    "- Top 5 songs: I’m a B (782 Minutes), Permission to Dance (301.8 Minutes), As if it’s your last (297.5 minutes), 再不再見 (Not see again - 296.4 minutes), 夜にかける (Flowing through the night - 285.8 minutes).\n",
    "\n",
    "- Top Genres: Mandopop + C-pop (664.1 minutes), Canto pop (367.1 minutes), J-pop (108.7)\n",
    "- Q4 so far has the lowest average number of minutes listened to music on Spotify by 2,349.  This is because Q4 has started.  Accurate numbers will be available by the end of 12/2022.\n",
    "\n",
    "\n",
    "\n",
    "### Improvements\n",
    "\n",
    "- One way that this project could be improved is that I could have used Spotify’s API to retrieve the data.  This would have allowed me to gather data within the same day, rather than waiting five business days and manually load the data.  From there, performing ETL, using AWS Redshift and connecting it to the Tableau dashboard so that data would be automatically updated regularly.  As I am using Tableau dashboard and being mindful at potential costs through the AWS service, I have to perform this project manually.\n",
    "\n",
    "- The Spotify data also picked up podcasts I listed to, which skewed the data.  On average, the podcasts I listen to are on average 40 minutes each.  The data may be skewed as podcasts aren’t music.\n",
    "- Duplicates in genres.  A noticeable example would be of the “Mandarin Chinese Pop” genre.  In the dataset, they were either reported as “Mandopop” or “C-pop” - in reality, they are the same thing.  Using SQL or Python, I can further normalize the data by standardizing duplicated data.\n",
    "\n",
    "- I noticed that the genres were mismatched on each artist. A reason to why this may have happened is that tracks that were tied to multiple genres had the values stored in lists. To ensure quality data, I should have parsed through each data point and performed data validation.\n"
   ]
  },
  {
   "cell_type": "markdown",
   "metadata": {},
   "source": [
    "Link to Dashboard: https://public.tableau.com/views/SpotifyMusicAnalysis_16674631126220/Dashboard1?:language=en-US&:display_count=n&:origin=viz_share_link"
   ]
  },
  {
   "cell_type": "code",
   "execution_count": null,
   "metadata": {},
   "outputs": [],
   "source": []
  }
 ],
 "metadata": {
  "kernelspec": {
   "display_name": "Python 3",
   "language": "python",
   "name": "python3"
  },
  "language_info": {
   "codemirror_mode": {
    "name": "ipython",
    "version": 3
   },
   "file_extension": ".py",
   "mimetype": "text/x-python",
   "name": "python",
   "nbconvert_exporter": "python",
   "pygments_lexer": "ipython3",
   "version": "3.7.4"
  }
 },
 "nbformat": 4,
 "nbformat_minor": 2
}
